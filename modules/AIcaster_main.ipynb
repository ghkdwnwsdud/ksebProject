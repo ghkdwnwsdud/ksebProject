{
  "nbformat": 4,
  "nbformat_minor": 0,
  "metadata": {
    "colab": {
      "provenance": [],
      "authorship_tag": "ABX9TyMsgt5BWODORGHtHICorAW/",
      "include_colab_link": true
    },
    "kernelspec": {
      "name": "python3",
      "display_name": "Python 3"
    },
    "language_info": {
      "name": "python"
    }
  },
  "cells": [
    {
      "cell_type": "markdown",
      "metadata": {
        "id": "view-in-github",
        "colab_type": "text"
      },
      "source": [
        "<a href=\"https://colab.research.google.com/github/ghkdwnwsdud/ksebProject/blob/main/modules/AIcaster_main.ipynb\" target=\"_parent\"><img src=\"https://colab.research.google.com/assets/colab-badge.svg\" alt=\"Open In Colab\"/></a>"
      ]
    },
    {
      "cell_type": "markdown",
      "source": [],
      "metadata": {
        "id": "bRy43dp9XR6l"
      }
    },
    {
      "cell_type": "code",
      "source": [
        "##타석\n",
        "#타석 여부 -모델 o\n",
        "#피칭 여부 -모델 o\n",
        "#스윙 여부 -모델 o\n",
        "\n",
        "##주루\n",
        "#이미지 캡셔닝 데이터 - 모델 제작중\n",
        "\n",
        "\n",
        "#화면 전환 - 모델 o\n",
        "\n",
        "\n",
        "## 상황판별\n",
        "#볼카운트 데이터 -모델 제작중\n",
        "#시간 데이터 - o\n",
        "#점수 여부 - o / 프레임 잘라서 ocr\n",
        "#진루 여부 - 제작중\n"
      ],
      "metadata": {
        "id": "IR0QLIPqXSl1"
      },
      "execution_count": null,
      "outputs": []
    },
    {
      "cell_type": "code",
      "source": [
        "def preprocessing_frame(path):\n",
        "    pass"
      ],
      "metadata": {
        "id": "z6-JjLJTCYP-"
      },
      "execution_count": null,
      "outputs": []
    },
    {
      "cell_type": "code",
      "source": [
        "def frame_change(frame):\n",
        "    pass"
      ],
      "metadata": {
        "id": "toDaoRlXCYhE"
      },
      "execution_count": null,
      "outputs": []
    },
    {
      "cell_type": "code",
      "source": [
        "def score_ocr(frame):\n",
        "    pass"
      ],
      "metadata": {
        "id": "9TgoOaa7CYhF"
      },
      "execution_count": null,
      "outputs": []
    },
    {
      "cell_type": "code",
      "source": [
        "def pitcher_hitter_detecting(frame):\n",
        "    pass"
      ],
      "metadata": {
        "id": "mTclA4y1CYhF"
      },
      "execution_count": null,
      "outputs": []
    },
    {
      "cell_type": "code",
      "source": [
        "def swing_detecting(frame):\n",
        "    pass"
      ],
      "metadata": {
        "id": "bEqfuIUlCYhF"
      },
      "execution_count": null,
      "outputs": []
    },
    {
      "cell_type": "code",
      "source": [
        "def pitching_detecting(frame):\n",
        "    pass"
      ],
      "metadata": {
        "id": "CqtL176qCYhF"
      },
      "execution_count": null,
      "outputs": []
    },
    {
      "cell_type": "code",
      "source": [
        "def batter_box_detecting(frame):\n",
        "    pass"
      ],
      "metadata": {
        "id": "4ubjlC4zCYhF"
      },
      "execution_count": null,
      "outputs": []
    },
    {
      "cell_type": "code",
      "source": [
        "def count_detecting(frame):\n",
        "    pass"
      ],
      "metadata": {
        "id": "SlfzYhrpCYhF"
      },
      "execution_count": null,
      "outputs": []
    },
    {
      "cell_type": "code",
      "source": [
        "def image_captioning(frame):\n",
        "    pass"
      ],
      "metadata": {
        "id": "N9Zum_ZmCpD3"
      },
      "execution_count": null,
      "outputs": []
    },
    {
      "cell_type": "code",
      "source": [
        "def call_api(tag):\n",
        "    pass"
      ],
      "metadata": {
        "id": "nly_Frk2C94F"
      },
      "execution_count": null,
      "outputs": []
    },
    {
      "cell_type": "code",
      "source": [
        "##w전역변수들\n",
        "pre_st_count= 0\n",
        "pre_b_count = 0\n",
        "pre_out_count = 0\n",
        "st_count = 0\n",
        "b_count = 0\n",
        "out_count = 0\n",
        "time = 0\n",
        "swing_count = -1\n",
        "pitching_count = -1\n",
        "flag = 0\n",
        "state = None\n",
        "count_flag\n",
        "state_time = 0\n"
      ],
      "metadata": {
        "id": "0s9XaozoH57t"
      },
      "execution_count": null,
      "outputs": []
    },
    {
      "cell_type": "code",
      "source": [
        "##인풋 프레임  // 시간 time을 고려해야함.\n",
        "##태그 업데이트\n",
        "tag = {'타석' : , '피칭' : , '스윙' :, '판정' : , '아웃_카운트' :, '볼_카운트' : , '스트_카운트' :, '주루': , 'time': , 'state' :, 'flag' :, '점수' :}\n",
        "\n",
        "image_path = \"\"\n",
        "frame = preprocessing(image_path)\n",
        "\n",
        "#카운트 태그 업데이트\n",
        "pre_st_count, pre_b_count, pre_out_count = tag['볼_카운트'], tag['스트_카운트'], tag['아웃_카운트']\n",
        "if count_detecting(frame) != 0:\n",
        "    tag['볼_카운트'], tag['스트_카운트'], tag['아웃_카운트'] = count_detecting(frame)\n",
        "if (pre_st_count != tag['스트_카운트']) or (pre_b_count != tag['볼_카운트']) or (pre_out_count != tag['아웃_카운트']):\n",
        "    tag['flag'] = 1\n",
        "\n",
        "#점수 업데이트\n",
        "tag['점수'] = score_ocr(frame)\n",
        "\n",
        "if better_box_detecting(frame) == True: # 타석\n",
        "\n",
        "    #피칭 태그 업데이트\n",
        "    pitcher_box, hitter_box = pitcher_hitter_detecting(frame)\n",
        "    pitching_detected = pitching_detecting(pitcher_box)\n",
        "    if tag['피칭'] != pitching_detected:\n",
        "        if pitching_count == -1:\n",
        "            pitching_count = 3\n",
        "        elif pitching_count == 0:\n",
        "            tag['피칭'] = pitching_detected #피칭\n",
        "        else :\n",
        "            pitching_count -= 1\n",
        "    else: #피칭X\n",
        "        if pitching_count != -1:\n",
        "            pitching_count = -1\n",
        "\n",
        "    #스윙 태그 업데이트\n",
        "    swing_detected = swing_detecting(hitter_box)\n",
        "    if tag['스윙'] != swing_detected: #\n",
        "        if swing_count == -1:\n",
        "            swing_count = 3\n",
        "        elif swing_count == 0:\n",
        "            tag['스윙'] = swing_detected #스윙\n",
        "        else :\n",
        "            swing_count -= 1\n",
        "    else: #스윙X\n",
        "        if swing_count != -1:\n",
        "            swing_count = -1\n",
        "else : #주루 플레이\n",
        "\n"
      ],
      "metadata": {
        "id": "O6pykZXNB-1t"
      },
      "execution_count": null,
      "outputs": []
    },
    {
      "cell_type": "code",
      "source": [
        "##인풋 프레임  // 시간 time을 고려해야함.\n",
        "\n",
        "#태그정보들을 바탕으로 state를 유지하거나, 변환한다.\n",
        "\n",
        "prestate = state\n",
        "\n",
        "if (state == None) and (tag['피칭'] == True): #피칭\n",
        "    state = pitching_state\n",
        "    state_time = 4\n",
        "\n",
        "if (state == pitching_state) and (tag['스윙'] == True): #스윙\n",
        "    state = swing_state\n",
        "    state_time = 5\n",
        "\n",
        "if (prestate != state) and (state_time == 0):\n",
        "    state = None\n",
        "    time = 0\n",
        "elif (prestate == state) and (state_time == 0):\n",
        "    pass\n",
        "else :\n",
        "    state_time -= 1\n",
        "\n",
        "#flag가 업데이트 되면, api를 작동시킨다.\n",
        "if (state == pitching_state) and (tag['flag'] == True): #noswing / 볼 스트라이크 판정 가능\n",
        "    tag['flag'] = false\n",
        "elif (state == swing_state) and (tag['flag'] == True): #swing / 스트라이크 아웃, 안타, 파울 판정 가능\n",
        "    tag['flag'] = false\n",
        "else :\n",
        "    pass\n",
        "\n",
        "#타석이 아닌 일반 주루플레이가 일정 시간 지속되면 주루플레이에 대한 api를 작동시킨다.\n",
        "if (state = None) and time > 2 :\n",
        "    text_gen = image_captioning(frame)\n",
        "    time = 0\n",
        "\n"
      ],
      "metadata": {
        "id": "CQ_GSx5YcPHl"
      },
      "execution_count": null,
      "outputs": []
    },
    {
      "cell_type": "code",
      "execution_count": null,
      "metadata": {
        "id": "eUg0fFFKXJe-"
      },
      "outputs": [],
      "source": [
        "#특정부분 색깔 인식\n",
        "import cv2\n",
        "import numpy as np\n",
        "\n",
        "def is_green(image, top_left, bottom_right, green_threshold=0.5):\n",
        "    \"\"\"\n",
        "    이미지의 특정 부분이 초록색인지 아닌지를 판별합니다.\n",
        "\n",
        "    Parameters:\n",
        "    image (numpy.ndarray): 입력 이미지 (BGR 형식)\n",
        "    top_left (tuple): 잘라낼 영역의 왼쪽 상단 좌표 (x, y)\n",
        "    bottom_right (tuple): 잘라낼 영역의 오른쪽 하단 좌표 (x, y)\n",
        "    green_threshold (float): 초록색으로 간주할 픽셀의 비율 임계값\n",
        "\n",
        "    Returns:\n",
        "    bool: 특정 부분이 초록색이면 True, 아니면 False\n",
        "    \"\"\"\n",
        "    # 지정된 영역 자르기\n",
        "    cropped_image = image[top_left[1]:bottom_right[1], top_left[0]:bottom_right[0]]\n",
        "\n",
        "    # BGR 이미지를 HSV 이미지로 변환\n",
        "    hsv_image = cv2.cvtColor(cropped_image, cv2.COLOR_BGR2HSV)\n",
        "\n",
        "    # 초록색의 HSV 범위 정의\n",
        "    lower_green = np.array([35, 40, 40])\n",
        "    upper_green = np.array([85, 255, 255])\n",
        "\n",
        "    # 지정된 HSV 범위 내에 있는지 여부를 판별하는 마스크 생성\n",
        "    mask = cv2.inRange(hsv_image, lower_green, upper_green)\n",
        "\n",
        "    # 마스크에서 초록색 픽셀의 비율 계산\n",
        "    green_ratio = np.count_nonzero(mask) / mask.size\n",
        "\n",
        "    # 초록색 픽셀이 일정 비율 이상이면 True 반환\n",
        "    return green_ratio > green_threshold\n",
        "\n",
        "# 예제 사용법\n",
        "if __name__ == \"__main__\":\n",
        "    # 이미지 읽기 (BGR 형식)\n",
        "    image = cv2.imread('your_image_path.jpg')\n",
        "\n",
        "    # 좌표 설정 (예: (50, 50)에서 (150, 150) 영역)\n",
        "    top_left = (50, 50)\n",
        "    bottom_right = (150, 150)\n",
        "\n",
        "    # 초록색 판별 함수 호출\n",
        "    is_green_area = is_green(image, top_left, bottom_right, green_threshold=0.5)\n",
        "\n",
        "    # 결과 출력\n",
        "    print(\"해당 영역이 초록색입니까?\", is_green_area)"
      ]
    },
    {
      "cell_type": "code",
      "source": [
        "#타입캐스트 api = __plt7qqFjo3YMYsqgtFX3gBGJ4cPhiL3zmtNVDYQVV62\n",
        "\n",
        "import requests\n",
        "import json\n",
        "\n",
        "url = \"https://typecast.ai/api/speak\"\n",
        "\n",
        "payload = json.dumps({\n",
        "  \"actor_id\": \"60228e8775ecc9e7ab8ef334\",\n",
        "  \"text\": \"\",\n",
        "  \"lang\": \"auto\",\n",
        "  \"tempo\": 1,\n",
        "  \"volume\": 100,\n",
        "  \"pitch\": 0,\n",
        "  \"xapi_hd\": True,\n",
        "  \"max_seconds\": 60,\n",
        "  \"model_version\": \"latest\",\n",
        "  \"xapi_audio_format\": \"wav\"\n",
        "})\n",
        "headers = {\n",
        "  'Content-Type': 'application/json',\n",
        "  'Authorization': 'Bearer __pl....VV62'\n",
        "}\n",
        "\n",
        "response = requests.request(\"POST\", url, headers=headers, data=payload)\n",
        "\n",
        "print(response.text)"
      ],
      "metadata": {
        "id": "t-4cCwVlnRQo"
      },
      "execution_count": null,
      "outputs": []
    },
    {
      "cell_type": "code",
      "source": [
        "def frame_change(frame):\n",
        "    pass"
      ],
      "metadata": {
        "id": "zvGnwA_8AwCK"
      },
      "execution_count": null,
      "outputs": []
    },
    {
      "cell_type": "code",
      "source": [
        "def score_ocr(frame):\n",
        "    pass"
      ],
      "metadata": {
        "id": "fDT4_DxGA6g6"
      },
      "execution_count": null,
      "outputs": []
    },
    {
      "cell_type": "code",
      "source": [
        "def pitcher_hitter_detecting(frame):\n",
        "    pass"
      ],
      "metadata": {
        "id": "DMwGYjwjBAGZ"
      },
      "execution_count": null,
      "outputs": []
    },
    {
      "cell_type": "code",
      "source": [
        "def swing_detecting(frame):\n",
        "    pass"
      ],
      "metadata": {
        "id": "nhlpy2VTBjHR"
      },
      "execution_count": null,
      "outputs": []
    },
    {
      "cell_type": "code",
      "source": [
        "def pitching_detecting(frame):\n",
        "    pass"
      ],
      "metadata": {
        "id": "ZTvZ25NkBmc3"
      },
      "execution_count": null,
      "outputs": []
    },
    {
      "cell_type": "code",
      "source": [
        "def batter_box_detecting(frame):\n",
        "    pass"
      ],
      "metadata": {
        "id": "r_DWoGsYBqBP"
      },
      "execution_count": null,
      "outputs": []
    },
    {
      "cell_type": "code",
      "source": [
        "def count_detecting(frame):\n",
        "    pass"
      ],
      "metadata": {
        "id": "SZxEsfSwB3ns"
      },
      "execution_count": null,
      "outputs": []
    }
  ]
}